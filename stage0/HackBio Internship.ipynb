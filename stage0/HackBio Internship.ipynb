{
 "cells": [
  {
   "cell_type": "code",
   "execution_count": 1,
   "id": "9d26adba-291c-48ee-9ecf-cf59a78dec74",
   "metadata": {},
   "outputs": [
    {
     "name": "stdout",
     "output_type": "stream",
     "text": [
      "atgcc\n",
      " GGCCC\n"
     ]
    }
   ],
   "source": [
    "seq1 = 'atgcc' #lower case\n",
    "seq2 = ' GGCCC' #upper case\n",
    "\n",
    "print(seq1)\n",
    "print(seq2)"
   ]
  },
  {
   "cell_type": "code",
   "execution_count": 2,
   "id": "544daffc-2d87-4857-bfdb-ad4eaea0e1e2",
   "metadata": {},
   "outputs": [
    {
     "name": "stdout",
     "output_type": "stream",
     "text": [
      "atgcc GGCCC\n"
     ]
    }
   ],
   "source": [
    "seq3 = seq1+seq2 #concatenates both upper and lowercase\n",
    "print(seq3)"
   ]
  },
  {
   "cell_type": "code",
   "execution_count": 6,
   "id": "0c8f7380-6200-4be4-87af-311b95db49aa",
   "metadata": {},
   "outputs": [
    {
     "name": "stdout",
     "output_type": "stream",
     "text": [
      "atgcc GGCCC\n"
     ]
    }
   ],
   "source": [
    "seq3.strip()\n",
    "print(seq3)"
   ]
  },
  {
   "cell_type": "code",
   "execution_count": 4,
   "id": "f1c7f838-8418-4cd6-9975-891b9563d07b",
   "metadata": {},
   "outputs": [
    {
     "name": "stdout",
     "output_type": "stream",
     "text": [
      "ATGCC GGCCC\n"
     ]
    }
   ],
   "source": [
    "seq3_upper = seq3.upper() #converts all to upper case\n",
    "print(seq3_upper)"
   ]
  },
  {
   "cell_type": "code",
   "execution_count": 5,
   "id": "bf5af1a7-2509-45c3-afc0-dbe213f82cd9",
   "metadata": {},
   "outputs": [
    {
     "name": "stdout",
     "output_type": "stream",
     "text": [
      "atgcc ggccc\n"
     ]
    }
   ],
   "source": [
    "seq3_lower = seq3.lower() #converts all to lower case\n",
    "print(seq3_lower)"
   ]
  },
  {
   "cell_type": "code",
   "execution_count": 7,
   "id": "ae98a307-e598-48ba-9547-8462a2bda68e",
   "metadata": {},
   "outputs": [],
   "source": [
    "# calculate the percentage GC content of each sequence in the list\n",
    "sequence = [\"ATGCGTAC\", \"GCTTAGCT\", \"CGTACGTA\"]"
   ]
  },
  {
   "cell_type": "code",
   "execution_count": 9,
   "id": "b782f624-fe58-4d0b-bd70-516f0ffc2069",
   "metadata": {},
   "outputs": [
    {
     "name": "stdout",
     "output_type": "stream",
     "text": [
      "The lenght of G is  2 and C is  2\n"
     ]
    }
   ],
   "source": [
    "#calculate the GC content for the first entry in the list.\n",
    "g = sequence[0].count('G')\n",
    "c = sequence[0].count('C')\n",
    "\n",
    "print(\"The lenght of G is \", g, \"and C is \", c)"
   ]
  },
  {
   "cell_type": "code",
   "execution_count": 10,
   "id": "54e18171-0bc1-4bb8-8451-46d98365bafa",
   "metadata": {},
   "outputs": [
    {
     "name": "stdout",
     "output_type": "stream",
     "text": [
      "The percentage GC content of the first entry in the list is  50.0 %\n"
     ]
    }
   ],
   "source": [
    "# the percentage GC content of the first entry in the list.\n",
    "gc_content_percentage = ((g + c) / len(sequence[0])) * 100\n",
    "print(\"The percentage GC content of the first entry in the list is \", gc_content_percentage, \"%\")"
   ]
  },
  {
   "cell_type": "code",
   "execution_count": 11,
   "id": "9bd32790-edc2-4f3b-bf82-ddc084fb9acc",
   "metadata": {},
   "outputs": [
    {
     "name": "stdout",
     "output_type": "stream",
     "text": [
      "The lenght of G is  2 and C is  2\n"
     ]
    }
   ],
   "source": [
    "#calculate the GC content for the second entry in the list.\n",
    "g2 = sequence[1].count('G')\n",
    "c2 = sequence[1].count('C')\n",
    "\n",
    "print(\"The lenght of G is \", g2, \"and C is \", c2)"
   ]
  },
  {
   "cell_type": "code",
   "execution_count": 13,
   "id": "79109507-280f-4948-8127-59318d391f7f",
   "metadata": {},
   "outputs": [
    {
     "name": "stdout",
     "output_type": "stream",
     "text": [
      "The percentage GC content of the second entry in the list is  50.0 %\n"
     ]
    }
   ],
   "source": [
    "# the percentage GC content of the second entry in the list.\n",
    "gc2_content_percentage = ((g2 + c2) / len(sequence[1])) * 100\n",
    "\n",
    "print(\"The percentage GC content of the second entry in the list is \", gc2_content_percentage, \"%\")"
   ]
  },
  {
   "cell_type": "code",
   "execution_count": 14,
   "id": "a477f5e4-1e8c-46bc-af45-aa1764da4fa1",
   "metadata": {},
   "outputs": [
    {
     "name": "stdout",
     "output_type": "stream",
     "text": [
      "The lenght of G is  2 and C is  2\n"
     ]
    }
   ],
   "source": [
    "#calculate the GC content for the third entry in the list.\n",
    "g3 = sequence[2].count('G')\n",
    "c3 = sequence[2].count('C')\n",
    "\n",
    "print(\"The lenght of G is \", g3, \"and C is \", c3)"
   ]
  },
  {
   "cell_type": "code",
   "execution_count": 16,
   "id": "cd87d86b-7e8a-4192-80ea-ebe462df0e48",
   "metadata": {},
   "outputs": [
    {
     "name": "stdout",
     "output_type": "stream",
     "text": [
      "The percentage GC content of the third entry in the list is  50.0 %\n"
     ]
    }
   ],
   "source": [
    "# the percentage GC content of the third entry in the list.\n",
    "gc3_content_percentage = ((g3 + c3) / len(sequence[1])) * 100\n",
    "\n",
    "print(\"The percentage GC content of the third entry in the list is \", gc3_content_percentage, \"%\")"
   ]
  },
  {
   "cell_type": "code",
   "execution_count": 17,
   "id": "79a0a221-e655-4518-bb89-5f1cea7caeff",
   "metadata": {},
   "outputs": [
    {
     "name": "stdout",
     "output_type": "stream",
     "text": [
      "['Homo sapiens', 7800000000]\n",
      "['Pan troglodytes', 200000]\n",
      "['Gorilla gorilla', 100000]\n",
      "['Pongo pygmaeus', 104700]\n"
     ]
    }
   ],
   "source": [
    "#You can store more complex data using nested lists. For example, let's organize species with their respective populations in a nested list:\n",
    "species_population = [\n",
    "    [\"Homo sapiens\", 7800000000],\n",
    "    [\"Pan troglodytes\", 200000],\n",
    "    [\"Gorilla gorilla\", 100000],\n",
    "    [\"Pongo pygmaeus\", 104700]\n",
    "]\n",
    "\n",
    "#To access the population of a specific species:\n",
    "print(species_population[0])\n",
    "print(species_population[1])\n",
    "print(species_population[2])\n",
    "print(species_population[3])"
   ]
  },
  {
   "cell_type": "code",
   "execution_count": 18,
   "id": "4d20a930-5c97-4999-8f91-b95425f216fa",
   "metadata": {},
   "outputs": [
    {
     "name": "stdout",
     "output_type": "stream",
     "text": [
      "('Homo sapiens', 'Mammal', 'Omnivore')\n"
     ]
    }
   ],
   "source": [
    "#Creating a tuple of some fixed characteristics of a species:\n",
    "species_characteristics = (\"Homo sapiens\", \"Mammal\", \"Omnivore\")\n",
    "print(species_characteristics)"
   ]
  },
  {
   "cell_type": "code",
   "execution_count": 19,
   "id": "68b95c2c-e1c3-4ec0-aa1d-d553e9d8d712",
   "metadata": {},
   "outputs": [
    {
     "name": "stdout",
     "output_type": "stream",
     "text": [
      "Homo sapiens\n"
     ]
    }
   ],
   "source": [
    "# Access the species name\n",
    "print(species_characteristics[0])"
   ]
  },
  {
   "cell_type": "code",
   "execution_count": 20,
   "id": "fcdc74a6-b818-4c70-9236-410b3474dc34",
   "metadata": {},
   "outputs": [
    {
     "name": "stdout",
     "output_type": "stream",
     "text": [
      "Mammal\n"
     ]
    }
   ],
   "source": [
    "# Access the class\n",
    "print(species_characteristics[1])"
   ]
  },
  {
   "cell_type": "code",
   "execution_count": 22,
   "id": "2bb5178f-b6b7-4760-b4ab-c2e7151ca2da",
   "metadata": {},
   "outputs": [
    {
     "name": "stdout",
     "output_type": "stream",
     "text": [
      "(340522, 341532)\n"
     ]
    }
   ],
   "source": [
    "#Tuples are often used to store fixed sets of data, such as geographic coordinates.\n",
    "# Coordinates of a sample gene \n",
    "gene_coordinates = (340522, 341532)  # start, end\n",
    "print(gene_coordinates)"
   ]
  },
  {
   "cell_type": "code",
   "execution_count": 23,
   "id": "7fdd92e2-f857-4d12-b876-c334fcd8bfe3",
   "metadata": {},
   "outputs": [
    {
     "name": "stdout",
     "output_type": "stream",
     "text": [
      "('Homo sapiens', 79)\n"
     ]
    }
   ],
   "source": [
    "#You can use tuples to pair data together. For example, let’s pair a species name with its lifespan.\n",
    "species_lifespan = (\"Homo sapiens\", 79)  # species name and average lifespan in years\n",
    "print(species_lifespan)"
   ]
  },
  {
   "cell_type": "code",
   "execution_count": 24,
   "id": "572141f9-e7c7-4a16-b845-3df952b0cd83",
   "metadata": {},
   "outputs": [
    {
     "name": "stdout",
     "output_type": "stream",
     "text": [
      "Species: Homo sapiens, Lifespan: 79 years\n"
     ]
    }
   ],
   "source": [
    "#You can unpack the values in a tuple into variables.\n",
    "species, lifespan = species_lifespan\n",
    "print(f\"Species: {species}, Lifespan: {lifespan} years\")"
   ]
  },
  {
   "cell_type": "code",
   "execution_count": 25,
   "id": "13ed5119-d642-46d8-9482-a4ff4816a933",
   "metadata": {},
   "outputs": [
    {
     "name": "stdout",
     "output_type": "stream",
     "text": [
      "{'Human': 'Homo sapiens', 'Chimpanzee': 'Pan troglodytes', 'Gorilla': 'Gorilla gorilla', 'Orangutan': 'Pongo pygmaeus'}\n"
     ]
    }
   ],
   "source": [
    "# Example: Dictionary of species and their scientific names\n",
    "species_dict = {\n",
    "    \"Human\": \"Homo sapiens\",\n",
    "    \"Chimpanzee\": \"Pan troglodytes\",\n",
    "    \"Gorilla\": \"Gorilla gorilla\",\n",
    "    \"Orangutan\": \"Pongo pygmaeus\"\n",
    "}\n",
    "\n",
    "print(species_dict)"
   ]
  },
  {
   "cell_type": "code",
   "execution_count": 26,
   "id": "b5ea10f1-0e42-4f43-840b-c10ba9623ef4",
   "metadata": {},
   "outputs": [
    {
     "name": "stdout",
     "output_type": "stream",
     "text": [
      "Homo sapiens\n"
     ]
    }
   ],
   "source": [
    "# Access the scientific name of 'Human'\n",
    "print(species_dict[\"Human\"])"
   ]
  },
  {
   "cell_type": "code",
   "execution_count": 27,
   "id": "e0d2e294-5b68-4114-9ec6-19e01b4e8520",
   "metadata": {},
   "outputs": [
    {
     "name": "stdout",
     "output_type": "stream",
     "text": [
      "{'Human': 'Homo sapiens', 'Chimpanzee': 'Pan troglodytes', 'Gorilla': 'Gorilla gorilla', 'Orangutan': 'Pongo pygmaeus', 'Rhesus Monkey': 'Macaca mulatta'}\n"
     ]
    }
   ],
   "source": [
    "# Add a new species\n",
    "species_dict[\"Rhesus Monkey\"] = \"Macaca mulatta\"\n",
    "print(species_dict)"
   ]
  },
  {
   "cell_type": "code",
   "execution_count": 28,
   "id": "81cca572-c84d-4b72-9506-2ccad052264d",
   "metadata": {},
   "outputs": [
    {
     "name": "stdout",
     "output_type": "stream",
     "text": [
      "{'Human': 'Homo sapiens sapiens', 'Chimpanzee': 'Pan troglodytes', 'Gorilla': 'Gorilla gorilla', 'Orangutan': 'Pongo pygmaeus', 'Rhesus Monkey': 'Macaca mulatta'}\n"
     ]
    }
   ],
   "source": [
    "# Modify the value for an existing key\n",
    "species_dict[\"Human\"] = \"Homo sapiens sapiens\"\n",
    "print(species_dict)"
   ]
  },
  {
   "cell_type": "code",
   "execution_count": 29,
   "id": "881f33b4-3520-4da8-9226-c207fa47c81b",
   "metadata": {},
   "outputs": [
    {
     "name": "stdout",
     "output_type": "stream",
     "text": [
      "{'Human': 'Homo sapiens sapiens', 'Chimpanzee': 'Pan troglodytes', 'Gorilla': 'Gorilla gorilla', 'Orangutan': 'Pongo pygmaeus', 'Rhesus Monkey': 'Macaca mulatta', 'Dog': 'Canis lupus'}\n"
     ]
    }
   ],
   "source": [
    "# Challenge: Add a new species \"Dog\" with its scientific name \"Canis lupus\" to species_dict.\n",
    "species_dict[\"Dog\"] = \"Canis lupus\"\n",
    "print(species_dict)"
   ]
  },
  {
   "cell_type": "code",
   "execution_count": 30,
   "id": "6e37b075-a58b-4b8e-836f-81ad9cd15115",
   "metadata": {},
   "outputs": [
    {
     "name": "stdout",
     "output_type": "stream",
     "text": [
      "{'Human': 'Homo sapiens sapiens', 'Chimpanzee': 'Pan troglodytes', 'Orangutan': 'Pongo pygmaeus', 'Rhesus Monkey': 'Macaca mulatta', 'Dog': 'Canis lupus'}\n"
     ]
    }
   ],
   "source": [
    "# Remove the 'Gorilla' entry\n",
    "del species_dict[\"Gorilla\"]\n",
    "print(species_dict)"
   ]
  },
  {
   "cell_type": "code",
   "execution_count": 31,
   "id": "15313fe4-e181-455b-827e-137d2a7524af",
   "metadata": {},
   "outputs": [
    {
     "name": "stdout",
     "output_type": "stream",
     "text": [
      "Pongo pygmaeus\n",
      "{'Human': 'Homo sapiens sapiens', 'Chimpanzee': 'Pan troglodytes', 'Rhesus Monkey': 'Macaca mulatta', 'Dog': 'Canis lupus'}\n"
     ]
    }
   ],
   "source": [
    "# Remove using pop() and capture the removed value\n",
    "removed_species = species_dict.pop(\"Orangutan\")\n",
    "print(removed_species)\n",
    "print(species_dict)"
   ]
  },
  {
   "cell_type": "code",
   "execution_count": 32,
   "id": "2d5f168d-84b1-4dd2-ae5a-6313ac1fc91c",
   "metadata": {},
   "outputs": [
    {
     "name": "stdout",
     "output_type": "stream",
     "text": [
      "Pan troglodytes\n",
      "{'Human': 'Homo sapiens sapiens', 'Rhesus Monkey': 'Macaca mulatta', 'Dog': 'Canis lupus'}\n"
     ]
    }
   ],
   "source": [
    "# Challenge: Remove the \"Chimpanzee\" entry using pop().\n",
    "removed_species2 = species_dict.pop(\"Chimpanzee\")\n",
    "print(removed_species2)\n",
    "print(species_dict)"
   ]
  },
  {
   "cell_type": "code",
   "execution_count": 33,
   "id": "5afb7a39-9f52-4ff7-9225-ca7cdc1f1ee3",
   "metadata": {},
   "outputs": [],
   "source": [
    "#Let's create a dictionary to store gene names and their expression levels (in arbitrary units):\n",
    "gene_expression = {\n",
    "    \"BRCA1\": 12.5,\n",
    "    \"TP53\": 7.8,\n",
    "    \"MYC\": 19.2\n",
    "}"
   ]
  },
  {
   "cell_type": "code",
   "execution_count": 34,
   "id": "8209657b-5ff0-4c17-83bf-7d3df3e45290",
   "metadata": {},
   "outputs": [
    {
     "data": {
      "text/plain": [
       "7.8"
      ]
     },
     "execution_count": 34,
     "metadata": {},
     "output_type": "execute_result"
    }
   ],
   "source": [
    "# Access the expression level of the gene \"TP53\"\n",
    "gene_expression[\"TP53\"]"
   ]
  },
  {
   "cell_type": "code",
   "execution_count": 35,
   "id": "2f5c95fc-ac09-4b98-a025-73d94e577755",
   "metadata": {},
   "outputs": [],
   "source": [
    "# Dictionaries can also store nested information. For example, let's create a dictionary of species with their classifications:\n",
    "species_classification = {\n",
    "    \"Homo sapiens\": {\n",
    "        \"Kingdom\": \"Animalia\",\n",
    "        \"Phylum\": \"Chordata\",\n",
    "        \"Class\": \"Mammalia\",\n",
    "        \"Order\": \"Primates\",\n",
    "        \"Family\": \"Hominidae\"\n",
    "    },\n",
    "    \"Pan troglodytes\": {\n",
    "        \"Kingdom\": \"Animalia\",\n",
    "        \"Phylum\": \"Chordata\",\n",
    "        \"Class\": \"Mammalia\",\n",
    "        \"Order\": \"Primates\",\n",
    "        \"Family\": \"Hominidae\"\n",
    "    }\n",
    "}"
   ]
  },
  {
   "cell_type": "code",
   "execution_count": 50,
   "id": "90165e40-236f-41a1-8d62-0b0abceef61b",
   "metadata": {},
   "outputs": [
    {
     "name": "stdout",
     "output_type": "stream",
     "text": [
      "To access the class, Homo sapiens belongs to Mammalia.\n"
     ]
    }
   ],
   "source": [
    "#Task: Access the Class of \"Homo sapiens\".\n",
    "print(f\"Homo sapiens belongs to the class {species_classification['Homo sapiens']['Class']}.\")"
   ]
  },
  {
   "cell_type": "code",
   "execution_count": 53,
   "id": "1d32f984-47d1-44fe-809e-09a91466a441",
   "metadata": {},
   "outputs": [
    {
     "name": "stdout",
     "output_type": "stream",
     "text": [
      "b is greater than a\n"
     ]
    }
   ],
   "source": [
    "#Example of if statement\n",
    "a = 33\n",
    "b = 200\n",
    "if b > a:\n",
    "  print(\"b is greater than a\")"
   ]
  },
  {
   "cell_type": "code",
   "execution_count": 54,
   "id": "e295d283-b533-4da4-ba4f-e721b50d9a01",
   "metadata": {},
   "outputs": [
    {
     "name": "stdout",
     "output_type": "stream",
     "text": [
      "a and b are equal\n"
     ]
    }
   ],
   "source": [
    "# The elif keyword is Python's way of saying “if the previous condition was not true, then try this new condition if it is true”\n",
    "a = 33\n",
    "b = 33\n",
    "if b > a:\n",
    "  print(\"b is greater than a\")\n",
    "elif a == b:\n",
    "  print(\"a and b are equal\")"
   ]
  },
  {
   "cell_type": "code",
   "execution_count": 55,
   "id": "bbf2c272-0145-49b1-8db0-3678c4a8b16b",
   "metadata": {},
   "outputs": [
    {
     "name": "stdout",
     "output_type": "stream",
     "text": [
      "a is greater than b\n"
     ]
    }
   ],
   "source": [
    "# The else keyword catches anything which isn't caught by the preceding conditions. i.e. if all the previous conditions are not true, use this.\n",
    "a = 200\n",
    "b = 33\n",
    "if b > a:\n",
    "  print(\"b is greater than a\")\n",
    "elif a == b:\n",
    "  print(\"a and b are equal\")\n",
    "else:\n",
    "  print(\"a is greater than b\")"
   ]
  },
  {
   "cell_type": "markdown",
   "id": "94fb7d05-9f0d-42a0-8ecd-1b5d122738fe",
   "metadata": {},
   "source": [
    "### 5: Loops (Iterations or repetitions)\n",
    "A for loop allows you to execute a block of code repeatedly for each item in a sequence. This can be helpful when you need to process each element in a list of genes, DNA sequences, or species."
   ]
  },
  {
   "cell_type": "code",
   "execution_count": 60,
   "id": "7773307b-2334-43c1-95b8-68c12cd27d65",
   "metadata": {},
   "outputs": [
    {
     "name": "stdout",
     "output_type": "stream",
     "text": [
      "Homo sapiens\n",
      "Pan troglodytes\n",
      "Gorilla gorilla\n"
     ]
    }
   ],
   "source": [
    "#Let's start with a simple example of iterating over a list of species:\n",
    "species = [\"Homo sapiens\", \"Pan troglodytes\", \"Gorilla gorilla\"]\n",
    "\n",
    "for sp in species:\n",
    "    print(sp)"
   ]
  },
  {
   "cell_type": "markdown",
   "id": "141c6679-f3da-428e-8380-a4578e0d4b32",
   "metadata": {},
   "source": [
    "### Tasks Description\n",
    "Suppose you have a list of DNA sequences, and you want to calculate the GC content (the percentage of bases that are either Guanine (G) or Cytosine (C)) for each sequence.\n",
    "Step-by-Step Guide:\n",
    "Define the list of DNA sequences.\n",
    "Write a for loop to iterate over each sequence.\n",
    "Count the occurrences of 'G' and 'C'.\n",
    "Calculate the GC content.\n",
    "Print the result for each sequence."
   ]
  },
  {
   "cell_type": "code",
   "execution_count": 62,
   "id": "bf0e27ab-4d17-4027-8967-d388187c1411",
   "metadata": {},
   "outputs": [
    {
     "data": {
      "text/plain": [
       "['ATGCGTAC', 'GCTTAGCT', 'CGTACGTA']"
      ]
     },
     "execution_count": 62,
     "metadata": {},
     "output_type": "execute_result"
    }
   ],
   "source": [
    "dna_sequences = [\"ATGCGTAC\", \"GCTTAGCT\", \"CGTACGTA\"]\n",
    "dna_sequences"
   ]
  },
  {
   "cell_type": "code",
   "execution_count": 63,
   "id": "f4eb60fd-f952-407d-9acc-cbc135517266",
   "metadata": {},
   "outputs": [
    {
     "name": "stdout",
     "output_type": "stream",
     "text": [
      "GC content of ATGCGTAC: 50.00%\n",
      "GC content of GCTTAGCT: 50.00%\n",
      "GC content of CGTACGTA: 50.00%\n"
     ]
    }
   ],
   "source": [
    "for seq in dna_sequences:\n",
    "    g_count = seq.count('G')\n",
    "    c_count = seq.count('C')\n",
    "    gc_content = ((g_count + c_count) / len(seq)) * 100\n",
    "    print(f\"GC content of {seq}: {gc_content:.2f}%\")"
   ]
  },
  {
   "cell_type": "code",
   "execution_count": 64,
   "id": "f7987c3e-fe94-47cf-af4d-f9e788783b1c",
   "metadata": {},
   "outputs": [
    {
     "data": {
      "text/plain": [
       "['AAGCTCGG', 'GGCGTA', 'TTAAGGCC']"
      ]
     },
     "execution_count": 64,
     "metadata": {},
     "output_type": "execute_result"
    }
   ],
   "source": [
    "# Write a for loop to calculate the GC content for a new list of DNA sequences: [\"AAGCTCGG\", \"GGCGTA\", \"TTAAGGCC\"].\n",
    "new_dna_sequences = [\"AAGCTCGG\", \"GGCGTA\", \"TTAAGGCC\"]\n",
    "new_dna_sequences"
   ]
  },
  {
   "cell_type": "code",
   "execution_count": 65,
   "id": "3bc94917-1303-43a2-b8bc-bd9c3b8c5aa5",
   "metadata": {},
   "outputs": [
    {
     "name": "stdout",
     "output_type": "stream",
     "text": [
      "GC content of AAGCTCGG: 62.50%\n",
      "GC content of GGCGTA: 66.67%\n",
      "GC content of TTAAGGCC: 50.00%\n"
     ]
    }
   ],
   "source": [
    "for newseq in new_dna_sequences:\n",
    "    new_gcount = newseq.count('G')\n",
    "    new_ccount = newseq.count('C')\n",
    "    new_gc_content = ((new_gcount + new_ccount) / len(newseq)) * 100\n",
    "    print(f\"GC content of {newseq}: {new_gc_content:.2f}%\")"
   ]
  },
  {
   "cell_type": "code",
   "execution_count": null,
   "id": "8b3fafcb-eeda-485a-aa48-a661411bd0c9",
   "metadata": {},
   "outputs": [],
   "source": []
  }
 ],
 "metadata": {
  "kernelspec": {
   "display_name": "Python 3 (ipykernel)",
   "language": "python",
   "name": "python3"
  },
  "language_info": {
   "codemirror_mode": {
    "name": "ipython",
    "version": 3
   },
   "file_extension": ".py",
   "mimetype": "text/x-python",
   "name": "python",
   "nbconvert_exporter": "python",
   "pygments_lexer": "ipython3",
   "version": "3.12.4"
  }
 },
 "nbformat": 4,
 "nbformat_minor": 5
}
